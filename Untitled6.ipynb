{
  "nbformat": 4,
  "nbformat_minor": 0,
  "metadata": {
    "colab": {
      "name": "Untitled6.ipynb",
      "provenance": [],
      "collapsed_sections": [],
      "authorship_tag": "ABX9TyNQBIi0F2bePXYJ0oo1LRyL",
      "include_colab_link": true
    },
    "kernelspec": {
      "name": "python3",
      "display_name": "Python 3"
    },
    "language_info": {
      "name": "python"
    }
  },
  "cells": [
    {
      "cell_type": "markdown",
      "metadata": {
        "id": "view-in-github",
        "colab_type": "text"
      },
      "source": [
        "<a href=\"https://colab.research.google.com/github/Lich-senpai13/python-appunti-ed-esercizzi/blob/main/Untitled6.ipynb\" target=\"_parent\"><img src=\"https://colab.research.google.com/assets/colab-badge.svg\" alt=\"Open In Colab\"/></a>"
      ]
    },
    {
      "cell_type": "markdown",
      "metadata": {
        "id": "5lFQDfOXvMPD"
      },
      "source": [
        "1. scrivere una funzione chiamata max che dati due numeri restituisca il più grande. Scrivere poi un programma che, utilizzando la funzione creata, trovi il massimo tra tre numeri inseriti dall'utente. "
      ]
    },
    {
      "cell_type": "code",
      "metadata": {
        "colab": {
          "base_uri": "https://localhost:8080/"
        },
        "id": "yjbkMJ5mvLCJ",
        "outputId": "a513c278-d0f1-48ea-f7b9-d2d8b4077105"
      },
      "source": [
        "def max(x,y):\n",
        "  if x > y:\n",
        "    return x\n",
        "  else:\n",
        "    return y\n",
        "num1= int(input())\n",
        "num2= int(input())\n",
        "num3= int(input())\n",
        "temp = max(num1,num2)\n",
        "print(\"Il numero più grande è\", max(temp,num3))"
      ],
      "execution_count": 2,
      "outputs": [
        {
          "output_type": "stream",
          "name": "stdout",
          "text": [
            "765\n",
            "56\n",
            "47\n",
            "Il numero più grande è 765\n"
          ]
        }
      ]
    },
    {
      "cell_type": "markdown",
      "metadata": {
        "id": "fGWWj1W2wBck"
      },
      "source": [
        "2. scrivere una funzione chiamata sommaLista che data una lista di interi restituisca la somma di tutti gli elementi della lista. Scrivere poi un programma che, utilizzando la funzione create, trovi la somma degli elementi di una lista inserita dall'utente"
      ]
    },
    {
      "cell_type": "code",
      "metadata": {
        "colab": {
          "base_uri": "https://localhost:8080/"
        },
        "id": "qWK2XAvZwFGW",
        "outputId": "9db8be8c-0a80-40a1-8e5e-edae7ab417c5"
      },
      "source": [
        "def sommaLista(lis):\n",
        "  somma = 0\n",
        "  for i in range(len(lis)):\n",
        "    somma = somma + lis[i] \n",
        "  return somma\n",
        "\n",
        "lista = list ()\n",
        "dimLista = int(input(\"Inserisci la dimensione: \"))\n",
        "g = 0\n",
        "while g < dimLista:\n",
        "  lista.append(int (input(\"Inserisci un elemento: \")))\n",
        "  g += 1\n",
        "print(\"La somma degli elementi della lista è:\", sommaLista(lista))"
      ],
      "execution_count": 10,
      "outputs": [
        {
          "output_type": "stream",
          "name": "stdout",
          "text": [
            "Inserisci la dimens-ione: 3\n",
            "Inserisci un elemento: 765\n",
            "Inserisci un elemento: 56\n",
            "Inserisci un elemento: 47\n",
            "La somma degli elementi della lista è: 868\n"
          ]
        }
      ]
    },
    {
      "cell_type": "markdown",
      "metadata": {
        "id": "ulUj8suhzdqd"
      },
      "source": [
        "3. utilizzando le funzioni create precedentemente, scrivere un programma che permetta all'utente di inserire tre liste e di avere il valore massimo della somma degli elementi delle tre liste."
      ]
    },
    {
      "cell_type": "code",
      "metadata": {
        "id": "zLRtltrkziMn"
      },
      "source": [
        ""
      ],
      "execution_count": 30,
      "outputs": []
    },
    {
      "cell_type": "markdown",
      "metadata": {
        "id": "zeDioxDZzorx"
      },
      "source": [
        "4. scrivere una funzione chiamata controlla che dato un numero e due estremi restituisca True se il numero è compreso tra i due estremi, false altrimenti. Utilizzare poi la funzione per trovare il numero di elementi di una lista di numeri interi (inserita dall'utente) compresi tra due estremi (inseriti anch'essi dall'utente)\n"
      ]
    },
    {
      "cell_type": "code",
      "metadata": {
        "id": "425dfqsdzpWW"
      },
      "source": [
        "def controlla(x,y,z):\n",
        "  T = True\n",
        "  F = False\n",
        "  if x in range(y,z):\n",
        "    return T\n",
        "  else:\n",
        "    return F"
      ],
      "execution_count": null,
      "outputs": []
    },
    {
      "cell_type": "markdown",
      "metadata": {
        "id": "LBGnGnJXzqDX"
      },
      "source": [
        "5. utilizzare la funzione controlla creata precedentemente per scrivere un programma che, data una lista di numeri interi inserita  dall'utente, carichi in un'altra lista i numeri compresi tra due estremi inseriti anch'essi dall'utente."
      ]
    },
    {
      "cell_type": "code",
      "metadata": {
        "colab": {
          "base_uri": "https://localhost:8080/"
        },
        "id": "I2-w737C11yf",
        "outputId": "2d495d82-957c-4d24-cfb7-6ccd6dfaaf12"
      },
      "source": [
        "def listeAvversarie(lis1, lis2):\n",
        "  if lis1 == lis2:\n",
        "    return True\n",
        "  else:\n",
        "    return False\n",
        "n1 =[int(j)for j in input(\"inserisci lista di numeri: \")]\n",
        "n2 = n1 [:]\n",
        "n2.reverse()\n",
        "print(\"la lista dell'utente è palindromo ?: \", listeAvversarie(n1, n2))"
      ],
      "execution_count": 73,
      "outputs": [
        {
          "output_type": "stream",
          "name": "stdout",
          "text": [
            "inserisci lista di numeri: 121\n",
            "la lista dell'utente è palindromo ?:  True\n"
          ]
        }
      ]
    },
    {
      "cell_type": "markdown",
      "metadata": {
        "id": "AsixKesT16fT"
      },
      "source": [
        "6. scrivere una funzione chiamata confrontaListe che date due liste restituisca True se le due liste sono uguali, False altrimenti. Utilizzare poi la funzione in un programma che dica se una lista di interi è palindroma, cioè se può essere letta indifferentemente da sinistra a destra e da destra a sinistra. Ad esempio la lista [1, 2, 3, 4, 3, 2, 1] è palindroma, la lista [1, 2, 3, 4, 3,1, 2] non lo è.\n"
      ]
    },
    {
      "cell_type": "code",
      "metadata": {
        "id": "bRivfsNt17Ju"
      },
      "source": [
        ""
      ],
      "execution_count": null,
      "outputs": []
    },
    {
      "cell_type": "markdown",
      "metadata": {
        "id": "xK2hBAmw2AGY"
      },
      "source": [
        "7. scrivere una funzione chiamata celsiusToFahrenheit che data una temperatura in gradi Celsius restituisca il valore convertito in gradi Fahrenheit (per ulteriori info, google it). Scrivere poi un programma che data una lista di temperature in gradi Celsius,inserita dall'utente, converta tutte le temperature in gradi Fahrenheit.\n"
      ]
    },
    {
      "cell_type": "code",
      "metadata": {
        "colab": {
          "base_uri": "https://localhost:8080/"
        },
        "id": "f4hMbkBr2AgX",
        "outputId": "fdf87ee9-9142-4bd9-997c-f3644adb4d20"
      },
      "source": [
        "lista = input(\"Inserire un valore in Celsius: \").split(' ')\n",
        "\n",
        "def celsiusToFahrenheit(x):\n",
        "  return round(x * (1.8) + 32)\n",
        "\n",
        "print([celsiusToFahrenheit(int(x)) for x in lista])"
      ],
      "execution_count": 30,
      "outputs": [
        {
          "output_type": "stream",
          "name": "stdout",
          "text": [
            "Inserire un valore in Celsius: 45\n",
            "[113]\n"
          ]
        }
      ]
    },
    {
      "cell_type": "markdown",
      "metadata": {
        "id": "LiQHUe162GTC"
      },
      "source": [
        "8. scrivere una funzione chiamata IMC che calcoli l'Indice di Massa Corporea a partire dal peso (in kg) e dall'altezza (in m). Utilizzare poi la funzione per scrivere un programma che date tre liste, contenente la prima una serie di nomi, la seconda una serie di pesi e la terza una serie di altezze, produca una quarta lista contenente i valori di IMC corrispondenti. Visualizzare poi i risultati nel seguente modo: \"<nome> pesa <peso kg, misura <altezza> m ed ha un IMC di <IMC>\" ( i valori nelle parentesi angolari vanno presi ovviamente dalle liste)"
      ]
    },
    {
      "cell_type": "code",
      "metadata": {
        "id": "i1JOFyzd2GzT"
      },
      "source": [
        ""
      ],
      "execution_count": null,
      "outputs": []
    },
    {
      "cell_type": "markdown",
      "metadata": {
        "id": "zeMeQeR61008"
      },
      "source": [
        "9: scrivere una lambda function per estrarre da una lista di numeri interi tutti i valori pari.\n"
      ]
    },
    {
      "cell_type": "code",
      "metadata": {
        "colab": {
          "base_uri": "https://localhost:8080/"
        },
        "id": "WBY1A73vzrCQ",
        "outputId": "b8f5faf7-343e-4464-e51b-ae81b778d9c1"
      },
      "source": [
        "lista = [0,1,3,4,5,6,7,8,9]\n",
        "ris = lambda lista:[n for n in lista if n%2 == 0]\n",
        "print(ris(lista))"
      ],
      "execution_count": 25,
      "outputs": [
        {
          "output_type": "stream",
          "name": "stdout",
          "text": [
            "[0, 4, 6, 8]\n"
          ]
        }
      ]
    }
  ]
}