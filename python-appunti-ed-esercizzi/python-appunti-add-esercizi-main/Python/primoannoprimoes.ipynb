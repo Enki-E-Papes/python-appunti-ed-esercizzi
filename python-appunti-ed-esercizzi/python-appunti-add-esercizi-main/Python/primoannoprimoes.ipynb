{
  "nbformat": 4,
  "nbformat_minor": 0,
  "metadata": {
    "colab": {
      "provenance": [],
      "collapsed_sections": [],
      "authorship_tag": "ABX9TyOLsSyF9XhBOpWWHbGQIrA9",
      "include_colab_link": true
    },
    "kernelspec": {
      "name": "python3",
      "display_name": "Python 3"
    },
    "language_info": {
      "name": "python"
    }
  },
  "cells": [
    {
      "cell_type": "markdown",
      "metadata": {
        "id": "view-in-github",
        "colab_type": "text"
      },
      "source": [
        "<a href=\"https://colab.research.google.com/github/Lich-senpai13/python-appunti-ed-esercizzi/blob/main/python-appunti-ed-esercizzi/python-appunti-add-esercizi-main/Python/primoannoprimoes.ipynb\" target=\"_parent\"><img src=\"https://colab.research.google.com/assets/colab-badge.svg\" alt=\"Open In Colab\"/></a>"
      ]
    },
    {
      "cell_type": "code",
      "execution_count": null,
      "metadata": {
        "colab": {
          "base_uri": "https://localhost:8080/"
        },
        "id": "NW825-1vBjqg",
        "outputId": "ce88b388-217d-4e64-f22c-dd114d6e4e43"
      },
      "outputs": [
        {
          "output_type": "stream",
          "name": "stdout",
          "text": [
            "CAIO\n"
          ]
        }
      ],
      "source": [
        "#python e un linguaggio interpretato e non (compilato)==>[in linguaggiomacchina]\n",
        "\n",
        "print(\"CAIO\")"
      ]
    },
    {
      "cell_type": "code",
      "source": [
        "a= 10\n",
        "b= 20\n",
        "c = 10.5  #il punto al posto della virgola\n",
        "\n",
        "print(a,b,c)"
      ],
      "metadata": {
        "colab": {
          "base_uri": "https://localhost:8080/"
        },
        "id": "CVEIYa8xFaed",
        "outputId": "22597a32-910b-44e1-9aea-0b7f51a2e3a4"
      },
      "execution_count": null,
      "outputs": [
        {
          "output_type": "stream",
          "name": "stdout",
          "text": [
            "10 20 10.5\n"
          ]
        }
      ]
    },
    {
      "cell_type": "code",
      "source": [
        "samma = a + b \n",
        "sotrazione = a-b\n",
        "divisione = a/b\n",
        "moltiplicazione= a*b\n",
        "\n",
        "print(samma,sotrazione,divisione,moltiplicazione)"
      ],
      "metadata": {
        "colab": {
          "base_uri": "https://localhost:8080/"
        },
        "id": "dVnqavG2F3-t",
        "outputId": "e770f1b5-316b-41c5-cd62-a06ba239d0e9"
      },
      "execution_count": null,
      "outputs": [
        {
          "output_type": "stream",
          "name": "stdout",
          "text": [
            "30 -10 0.5 200\n"
          ]
        }
      ]
    },
    {
      "cell_type": "code",
      "source": [
        "#inserimento dei dati\n",
        "\n",
        "peso = input(\"inserisci il tuo peso: \")\n",
        "altezza = input(\"inserisci la tua altezza: \")\n",
        "\n",
        "\n",
        "\n",
        "imc = int(peso) / (float(altezza) * float(altezza))\n",
        "\n",
        "\n",
        "print(\"il tuo indice di massa corporea: \",imc)\n",
        "\n",
        "if imc < 18.49:\n",
        "  print(\"sei normo peso \")\n",
        "\n",
        "elif imc < 15:\n",
        "  print(\"sei sotto peso \")\n",
        "\n",
        "elif imc < 30:\n",
        "  print(\"sei obeso \")  \n"
      ],
      "metadata": {
        "colab": {
          "base_uri": "https://localhost:8080/"
        },
        "id": "Y087olt7GfBN",
        "outputId": "c14f288e-baee-42a6-881f-3c7adf68334c"
      },
      "execution_count": null,
      "outputs": [
        {
          "output_type": "stream",
          "name": "stdout",
          "text": [
            "inserisci il tuo peso: 56\n",
            "inserisci la tua altezza: 1.87\n",
            "il tuo indice di massa corporea:  16.014183991535358\n",
            "sei normo peso \n"
          ]
        }
      ]
    },
    {
      "cell_type": "code",
      "source": [
        "#scrivere un programma che calcoli le tasse da pagare .\n",
        "#sè il reddito è inferiore a 30mila euro si paga il 15% .\n",
        "#sè il reddito e tra i 30mila e i 60mila 20%\n",
        "#sè superiore  60mila 30%\n",
        "\n",
        "\n",
        "reddito = int(input(\"inserisci il tuo reddito: \"))\n",
        "if  reddito < 30000 :\n",
        "  print( \"con sconto del 15%: \", reddito * 15 /100,\"€\")\n",
        "\n",
        "\n",
        "elif reddito > 30000 and reddito < 60000 :\n",
        "  print( \"con sconto del 20%: \", reddito * 20 /100,\"€\")\n",
        "\n",
        "\n",
        "elif  reddito > 60000 :\n",
        "  print( \"con sconto del 30%: \", reddito * 30 /100 ,\"€\")\n"
      ],
      "metadata": {
        "colab": {
          "base_uri": "https://localhost:8080/"
        },
        "id": "bMel3E0VLhTT",
        "outputId": "a6998747-b886-4783-d67b-5845d326876a"
      },
      "execution_count": null,
      "outputs": [
        {
          "output_type": "stream",
          "name": "stdout",
          "text": [
            "inserisci il tuo reddito: 300000\n",
            "con sconto del 30%:  90000.0 €\n"
          ]
        }
      ]
    },
    {
      "cell_type": "code",
      "source": [
        "# un negozio vuole incentivare gli aquisti applicando scontri maggiori a chi spende di più \n",
        "#se un cliente spende fino a cento euro viene fatto lo sconto del 15% \n",
        "#se spende dai 100 ai 200 euro lo sconto del 20%\n",
        "#se spende dai 200 ai 300 euro lo sconto del 40%\n",
        "#se spende oltre 400 lo sconto del 60%\n",
        "#scrivere un programma che dato il totale del aquisto faccia il calcolo del prezzo finale del acquisto .\n",
        "\n",
        "cicco=50\n",
        "bolo=90\n",
        "pmblo=100\n",
        "vantra= 200\n"
      ],
      "metadata": {
        "id": "6CJ_-x-NQlLX"
      },
      "execution_count": null,
      "outputs": []
    }
  ]
}