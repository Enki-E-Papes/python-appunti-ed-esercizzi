{
  "nbformat": 4,
  "nbformat_minor": 0,
  "metadata": {
    "colab": {
      "name": "Untitled5.ipynb",
      "provenance": [],
      "collapsed_sections": [],
      "authorship_tag": "ABX9TyMmxG+QH8nyj3qEwKTpKt+Q",
      "include_colab_link": true
    },
    "kernelspec": {
      "name": "python3",
      "display_name": "Python 3"
    },
    "language_info": {
      "name": "python"
    }
  },
  "cells": [
    {
      "cell_type": "markdown",
      "metadata": {
        "id": "view-in-github",
        "colab_type": "text"
      },
      "source": [
        "<a href=\"https://colab.research.google.com/github/Lich-senpai13/python-appunti-ed-esercizzi/blob/main/Untitled5.ipynb\" target=\"_parent\"><img src=\"https://colab.research.google.com/assets/colab-badge.svg\" alt=\"Open In Colab\"/></a>"
      ]
    },
    {
      "cell_type": "markdown",
      "metadata": {
        "id": "9lqxmJtorJ6y"
      },
      "source": [
        "1. scrivere una funzione chiamata media che dati due numeri restituisca la media. Utilizzare poi la funzione in un programma che acquisisca dall'utente due numeri e calcoli la media\n"
      ]
    },
    {
      "cell_type": "code",
      "metadata": {
        "colab": {
          "base_uri": "https://localhost:8080/"
        },
        "id": "85ONpucDrIpJ",
        "outputId": "4f2e27b1-417d-4502-e96c-7f1035d0ac19"
      },
      "source": [
        "def media (x,y):\n",
        "  z= x+y\n",
        "  z=z/2\n",
        "  return z\n",
        "media(int (input(\"inserisci il n° :\")),int (input(\"inserisci il 2 n°\")))\n"
      ],
      "execution_count": 3,
      "outputs": [
        {
          "name": "stdout",
          "output_type": "stream",
          "text": [
            "inserisci il n° :3\n",
            "inserisci il 2 n°5\n"
          ]
        },
        {
          "output_type": "execute_result",
          "data": {
            "text/plain": [
              "4.0"
            ]
          },
          "metadata": {},
          "execution_count": 3
        }
      ]
    },
    {
      "cell_type": "markdown",
      "metadata": {
        "id": "9mrcj9jfuJEi"
      },
      "source": [
        "2. scrivere una funzione chiamata piuCorta che date due liste restituisca la lista con meno elementi. Utilizzare poi la funzione in un programma che acquisisca dall'utente due liste e visualizzi gli elementi della lista più corta.\n"
      ]
    },
    {
      "cell_type": "code",
      "metadata": {
        "id": "j4mcZd2yuLwp"
      },
      "source": [
        "def piuCorta1 (lista1,lista2):\n",
        "  if len(lista1) > len(lista2):\n",
        "   return lista1\n",
        "  else: \n",
        "    return lista2\n",
        "    l1=[1,2,3,4,5]\n",
        "    l2=[3,4,5]\n",
        "    print('la lista piu corta'+ str (l1,l2))"
      ],
      "execution_count": 72,
      "outputs": []
    },
    {
      "cell_type": "code",
      "metadata": {
        "id": "6XOcBaMr24zr"
      },
      "source": [
        "  def piuCorta(lista1,lista2):\n",
        "      piuCorta= min(lista1,lista2) #attraverso la funzione min mostrata la lista con meno \n",
        "      return piuCorta \n",
        "      \n",
        "      piuCorta(lista1,lista2)   \n",
        "\n",
        "  lst = [] #creazione lista vuota\n",
        "\n",
        "  n=int (input(\"inserisci il numero di elementi che si vogliono inserire: \"))\n",
        "  \n",
        "  for i in range(0,n):\n",
        "    ele = str (input())\n",
        "    lst.append(ele)\n",
        "  print(lst)\n",
        "\n",
        "  lst2 = [] #creazione lista vuota\n",
        "  n2=int (input(\"inserisci il numero di elementi che si vogliono inserire: \"))\n",
        "\n",
        "  for i in range(0,n2):\n",
        "    ele = str (input())\n",
        "    lst2.append(ele)\n",
        "  print(lst2)\n",
        "  piuCorta(lista1,lista2)\n"
      ],
      "execution_count": 71,
      "outputs": []
    },
    {
      "cell_type": "markdown",
      "metadata": {
        "id": "Jwya0yLeuMFZ"
      },
      "source": [
        "3. scrivere una funzione chiamata costruisciLista che dati due numeri interi restituisca la lista formata da tutti i numeri interi compresi tra i due numeri dati. Utilizzare poi la funzione in un programma che acquisisca dall'utente due numeri e visualizzi la lista formata da tutti i numeri interi compresi tra i due numeri dati ma a partire dal più grande fino al più piccolo."
      ]
    },
    {
      "cell_type": "code",
      "metadata": {
        "id": "a7LSIE86uOYZ",
        "colab": {
          "base_uri": "https://localhost:8080/"
        },
        "outputId": "c1ebfd7f-fadd-4c58-a86f-6fb4449581f3"
      },
      "source": [
        "def costruisciLista(x,y):\n",
        "  z = [i  for i in range(y,x+1)]\n",
        "  z.reverse()\n",
        "  return z \n",
        " \n",
        "costruisciLista(int(input('Scrivi il primo numero ')),int(input('Scrivi il secondo numero ')))"
      ],
      "execution_count": 49,
      "outputs": [
        {
          "name": "stdout",
          "output_type": "stream",
          "text": [
            "Scrivi il primo numero 9\n",
            "Scrivi il secondo numero 1\n"
          ]
        },
        {
          "output_type": "execute_result",
          "data": {
            "text/plain": [
              "[9, 8, 7, 6, 5, 4, 3, 2, 1]"
            ]
          },
          "metadata": {},
          "execution_count": 49
        }
      ]
    },
    {
      "cell_type": "markdown",
      "metadata": {
        "id": "iCGmb5lIuR3J"
      },
      "source": [
        "4. scrivere una funzione chiamata valoreAssoluto che dato un numero restituisca il suo valore assoluto. Utilizzare poi questa funzione per determinare il valore assoluto degli elementi di una lista inserita dall'utente.\n"
      ]
    },
    {
      "cell_type": "code",
      "metadata": {
        "id": "vZuTxDoquSl5",
        "colab": {
          "base_uri": "https://localhost:8080/"
        },
        "outputId": "34d5fa7b-ae99-41c8-dc67-82430712b82a"
      },
      "source": [
        "def valoreAssoluto(n):\n",
        "  Q = [ abs(int(input('Scrivi il numero '))) for i in range(0,n)]\n",
        "  \n",
        "  return Q \n",
        "\n",
        "valoreAssoluto(int(input('Scrivi la lunghezza della lista ')))"
      ],
      "execution_count": 52,
      "outputs": [
        {
          "name": "stdout",
          "output_type": "stream",
          "text": [
            "Scrivi la lunghezza della lista 3\n",
            "Scrivi il numero 4\n",
            "Scrivi il numero -12\n",
            "Scrivi il numero 4\n"
          ]
        },
        {
          "output_type": "execute_result",
          "data": {
            "text/plain": [
              "[4, 12, 4]"
            ]
          },
          "metadata": {},
          "execution_count": 52
        }
      ]
    },
    {
      "cell_type": "markdown",
      "metadata": {
        "id": "vymhSLTZuUGp"
      },
      "source": [
        "5. scrivere una funzione chiamata scambia che data una lista scambi il primo elemento con l'ultimo, il secondo con il penultimo e così via. Utilizzare poi la funzione in un programma che acquisisca dall'utente una lista di 10 elementi e li visualizzi scambiati."
      ]
    },
    {
      "cell_type": "code",
      "metadata": {
        "id": "I-_JZp4juWXK",
        "colab": {
          "base_uri": "https://localhost:8080/"
        },
        "outputId": "7afa650d-ffe9-4f0b-ac8b-d7f352ff32dd"
      },
      "source": [
        "def scambia(lst):\n",
        "  lst.reverse()\n",
        "  return lst\n",
        "\n",
        "scambia([ (input('Scrivi elemento ')) for i in range(0,10)])"
      ],
      "execution_count": 57,
      "outputs": [
        {
          "name": "stdout",
          "output_type": "stream",
          "text": [
            "Scrivi elemento 1\n",
            "Scrivi elemento 2\n",
            "Scrivi elemento 3\n",
            "Scrivi elemento 4\n",
            "Scrivi elemento 5\n",
            "Scrivi elemento 6\n",
            "Scrivi elemento 7\n",
            "Scrivi elemento 8\n",
            "Scrivi elemento 9\n",
            "Scrivi elemento 40\n"
          ]
        },
        {
          "output_type": "execute_result",
          "data": {
            "text/plain": [
              "['40', '9', '8', '7', '6', '5', '4', '3', '2', '1']"
            ]
          },
          "metadata": {},
          "execution_count": 57
        }
      ]
    },
    {
      "cell_type": "markdown",
      "metadata": {
        "id": "K6yq2EKJuWrp"
      },
      "source": [
        "6. scrivere una funzione lambda che dati due numeri calcoli la loro somma. Utilizzare la funzione in un programma che chieda all'utente due numeri interi e visualizzi la loro somma.\n"
      ]
    },
    {
      "cell_type": "code",
      "metadata": {
        "id": "MOnMWz-WuYnR",
        "colab": {
          "base_uri": "https://localhost:8080/"
        },
        "outputId": "9566c3ef-d62c-40be-deb2-b3f8a0da6beb"
      },
      "source": [
        "Q = lambda x,y: x + y\n",
        "\n",
        "Q(int(input('Scrivi il primo numero ')), int(input('Scrivi il secondo numero ')))"
      ],
      "execution_count": 58,
      "outputs": [
        {
          "name": "stdout",
          "output_type": "stream",
          "text": [
            "Scrivi il primo numero 2\n",
            "Scrivi il secondo numero 3\n"
          ]
        },
        {
          "output_type": "execute_result",
          "data": {
            "text/plain": [
              "5"
            ]
          },
          "metadata": {},
          "execution_count": 58
        }
      ]
    },
    {
      "cell_type": "markdown",
      "metadata": {
        "id": "Hz4Y7QZOuY3Z"
      },
      "source": [
        "7. scrivere un programma che utilizzi una lambda function per aumentare di 10 unità tutti gli elementi di una lista di interi inserita dall'utente."
      ]
    },
    {
      "cell_type": "code",
      "metadata": {
        "id": "sPI0ItbKua7o",
        "colab": {
          "base_uri": "https://localhost:8080/"
        },
        "outputId": "e6e16a08-b79e-4231-8d8f-4d769241bb19"
      },
      "source": [
        "lsta = [ int(input('Scrivi il numero ')) for i in range(0,10)]\n",
        "\n",
        "list(map(lambda x: x + 10, lsta))"
      ],
      "execution_count": 64,
      "outputs": [
        {
          "name": "stdout",
          "output_type": "stream",
          "text": [
            "Scrivi il numero 1\n",
            "Scrivi il numero 2\n",
            "Scrivi il numero 3\n",
            "Scrivi il numero 4\n",
            "Scrivi il numero 5\n",
            "Scrivi il numero 10\n",
            "Scrivi il numero 15\n",
            "Scrivi il numero 40\n",
            "Scrivi il numero 48\n",
            "Scrivi il numero 90\n"
          ]
        },
        {
          "output_type": "execute_result",
          "data": {
            "text/plain": [
              "[11, 12, 13, 14, 15, 20, 25, 50, 58, 100]"
            ]
          },
          "metadata": {},
          "execution_count": 64
        }
      ]
    },
    {
      "cell_type": "markdown",
      "metadata": {
        "id": "f63uDkpaubPh"
      },
      "source": [
        "8. scrivere una funzione lambda che sostituisca il valore 0 se il parametro è negativo, il valore del parametro se è positivo. Utilizzare poi la funzione in un programma che chieda all'utente i 10 elementi di una lista e visualizzi la lista con il valore 0 al posto dei numeri negativi.\n"
      ]
    },
    {
      "cell_type": "code",
      "metadata": {
        "id": "H9Be1aOqudVp",
        "colab": {
          "base_uri": "https://localhost:8080/"
        },
        "outputId": "6a4ed3ac-723a-4d11-f377-2e5dae54c3e0"
      },
      "source": [
        "lst = [ int(input('Scrivi il numero ')) for j in range(0,4)]\n",
        "\n",
        "for j in range(0,4):\n",
        "  if lst[j] < 0:\n",
        "    lst[j] = 0\n",
        "print(lst)"
      ],
      "execution_count": 65,
      "outputs": [
        {
          "output_type": "stream",
          "name": "stdout",
          "text": [
            "Scrivi il numero -43\n",
            "Scrivi il numero 2\n",
            "Scrivi il numero 54\n",
            "Scrivi il numero 1\n",
            "[0, 2, 54, 1]\n"
          ]
        }
      ]
    },
    {
      "cell_type": "markdown",
      "metadata": {
        "id": "1pmZns6Audhx"
      },
      "source": [
        "9. scrivere un programma che calcoli il fattoriale di un numero utilizzando una lambda function. Provare a realizzare una lambda function ricorsiva (per la ricorsione, google it...)"
      ]
    },
    {
      "cell_type": "code",
      "metadata": {
        "id": "B7NpM8i0ueMZ",
        "colab": {
          "base_uri": "https://localhost:8080/"
        },
        "outputId": "35d4ba31-ba4a-40ad-e3af-ecfb2f2fb81b"
      },
      "source": [
        "fattoriale = lambda n: 69 if n == 0 else n * fattoriale(n-1)\n",
        "fattoriale(10)"
      ],
      "execution_count": 69,
      "outputs": [
        {
          "output_type": "execute_result",
          "data": {
            "text/plain": [
              "250387200"
            ]
          },
          "metadata": {},
          "execution_count": 69
        }
      ]
    }
  ]
}