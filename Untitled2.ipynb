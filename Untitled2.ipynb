{
  "nbformat": 4,
  "nbformat_minor": 0,
  "metadata": {
    "colab": {
      "name": "Untitled2.ipynb",
      "provenance": []
    },
    "kernelspec": {
      "name": "python3",
      "display_name": "Python 3"
    },
    "language_info": {
      "name": "python"
    }
  },
  "cells": [
    {
      "cell_type": "code",
      "metadata": {
        "id": "iTArr9TxgbtY"
      },
      "source": [
        "mimi1 = int(input(\"inserire n° \"))\n",
        "mimi2 = int(input(\"inserire n° \"))"
      ],
      "execution_count": null,
      "outputs": []
    },
    {
      "cell_type": "markdown",
      "metadata": {
        "id": "URsvepV_iBzy"
      },
      "source": [
        "a. far inserie all'utente due valori interi\n"
      ]
    },
    {
      "cell_type": "code",
      "metadata": {
        "colab": {
          "base_uri": "https://localhost:8080/"
        },
        "id": "tsacPS3Ah9q0",
        "outputId": "c65daf7a-dae2-4f56-ed62-0a4af8a15c74"
      },
      "source": [
        "print(\"add:\" + str(mimi1 + mimi2) ) \n",
        "print(\"sot:\" + str(mimi1 - mimi2) )\n",
        "print(\"div:\" + str(mimi1 / mimi2) )\n",
        "print(\"mol:\" + str(mimi1 * mimi2) )"
      ],
      "execution_count": 42,
      "outputs": [
        {
          "output_type": "stream",
          "name": "stdout",
          "text": [
            "add:50\n",
            "sot:40\n",
            "div:9.0\n",
            "mol:225\n"
          ]
        }
      ]
    },
    {
      "cell_type": "markdown",
      "metadata": {
        "id": "6mxRln5XmKqq"
      },
      "source": [
        "b. effettuare le 4 operazioni aritmetiche tra i due numeriù\n"
      ]
    },
    {
      "cell_type": "code",
      "metadata": {
        "id": "GKuL7qh1mCLk",
        "outputId": "0b324ef8-0663-474d-e70a-5b7af6ac2694",
        "colab": {
          "base_uri": "https://localhost:8080/"
        }
      },
      "source": [
        "print(pow(mimi1,mimi2))"
      ],
      "execution_count": 43,
      "outputs": [
        {
          "output_type": "stream",
          "name": "stdout",
          "text": [
            "184528125\n"
          ]
        }
      ]
    },
    {
      "cell_type": "markdown",
      "metadata": {
        "id": "O6-QxS5DnjnC"
      },
      "source": [
        "*c*. effettuare l'elevamento a potenza del primo numero per il secondo"
      ]
    },
    {
      "cell_type": "code",
      "metadata": {
        "id": "w7Wq7tkXnZjT",
        "outputId": "f907460a-789b-4953-f2d6-ae44c9dcf765",
        "colab": {
          "base_uri": "https://localhost:8080/"
        }
      },
      "source": [
        "print(str (mimi1 % mimi2))"
      ],
      "execution_count": 44,
      "outputs": [
        {
          "output_type": "stream",
          "name": "stdout",
          "text": [
            "0\n"
          ]
        }
      ]
    },
    {
      "cell_type": "markdown",
      "metadata": {
        "id": "y7P3sgnzolQS"
      },
      "source": [
        "d. effettuare il calcolo del resto della divisione tra il primo e il secondo numero"
      ]
    },
    {
      "cell_type": "code",
      "metadata": {
        "id": "PMW8_mmDob1j",
        "outputId": "b326a3bc-c5a3-41ea-e0c9-0e38891a3b90",
        "colab": {
          "base_uri": "https://localhost:8080/"
        }
      },
      "source": [
        "print(str (mimi1 // mimi2))"
      ],
      "execution_count": 45,
      "outputs": [
        {
          "output_type": "stream",
          "name": "stdout",
          "text": [
            "9\n"
          ]
        }
      ]
    },
    {
      "cell_type": "markdown",
      "metadata": {
        "id": "_0G6bqyJiCxL"
      },
      "source": [
        "f. effettuare la divisione intera tra il primo e il secondo numero"
      ]
    },
    {
      "cell_type": "code",
      "metadata": {
        "id": "VK166TN7pQEb",
        "outputId": "1450123c-b489-474f-b9aa-0aa3f47cd1bf",
        "colab": {
          "base_uri": "https://localhost:8080/"
        }
      },
      "source": [
        "mimi1 += 1\n",
        "mimi2 += 1\n",
        "print(mimi1)\n",
        "print(mimi2)"
      ],
      "execution_count": 50,
      "outputs": [
        {
          "output_type": "stream",
          "name": "stdout",
          "text": [
            "50\n",
            "10\n"
          ]
        }
      ]
    },
    {
      "cell_type": "markdown",
      "metadata": {
        "id": "YnSl87WIq7NS"
      },
      "source": [
        "g. incrementare di una unità entrambi i numeri"
      ]
    },
    {
      "cell_type": "code",
      "metadata": {
        "id": "wa43rFwAq2-z"
      },
      "source": [
        "altezza = float(input(\"inserisci la tua altezza(m): \"))\n",
        "peso= float(input(\"inserisci il tuo peso(kg): \"))\n",
        "\n",
        "print(peso/(altezza*2))"
      ],
      "execution_count": null,
      "outputs": []
    },
    {
      "cell_type": "markdown",
      "metadata": {
        "id": "C3x9PZBfpRRi"
      },
      "source": [
        "h. far inserie all'utente due valori: il primo rappresenta la sua altezza (in metri) e il secondo rappresenta il suo peso (in kg). Visualizzare poi l'IMC (google it...)\n"
      ]
    },
    {
      "cell_type": "code",
      "metadata": {
        "id": "4BigKZ-xwbW7"
      },
      "source": [
        "print(peso//(altezza*2))"
      ],
      "execution_count": null,
      "outputs": []
    },
    {
      "cell_type": "markdown",
      "metadata": {
        "id": "WCwlc6gSwfma"
      },
      "source": [
        "i. arrotondare l'IMC precedente"
      ]
    }
  ]
}