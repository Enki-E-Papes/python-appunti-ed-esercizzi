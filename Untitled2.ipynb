{
  "nbformat": 4,
  "nbformat_minor": 0,
  "metadata": {
    "colab": {
      "name": "Untitled2.ipynb",
      "provenance": [],
      "collapsed_sections": [],
      "authorship_tag": "ABX9TyMXFaJH9CjzJs9+1anoT0UU",
      "include_colab_link": true
    },
    "kernelspec": {
      "display_name": "Python 3",
      "name": "python3"
    },
    "language_info": {
      "name": "python"
    }
  },
  "cells": [
    {
      "cell_type": "markdown",
      "metadata": {
        "id": "view-in-github",
        "colab_type": "text"
      },
      "source": [
        "<a href=\"https://colab.research.google.com/github/Lich-senpai13/python-appunti-ed-esercizzi/blob/main/Untitled2.ipynb\" target=\"_parent\"><img src=\"https://colab.research.google.com/assets/colab-badge.svg\" alt=\"Open In Colab\"/></a>"
      ]
    },
    {
      "cell_type": "code",
      "metadata": {
        "colab": {
          "base_uri": "https://localhost:8080/"
        },
        "id": "iTArr9TxgbtY",
        "outputId": "46316a59-f2ad-40f2-cc12-bd6033a857d6"
      },
      "source": [
        "mimi1 = int(input(\"n1: \"))\n",
        "mimi2 = int(input(\"n2: \"))"
      ],
      "execution_count": 3,
      "outputs": [
        {
          "name": "stdout",
          "output_type": "stream",
          "text": [
            "n1: 1\n",
            "n2: 3\n"
          ]
        }
      ]
    },
    {
      "cell_type": "markdown",
      "metadata": {
        "id": "URsvepV_iBzy"
      },
      "source": [
        "a. far inserie all'utente due valori interi\n"
      ]
    },
    {
      "cell_type": "code",
      "metadata": {
        "id": "tsacPS3Ah9q0",
        "colab": {
          "base_uri": "https://localhost:8080/"
        },
        "outputId": "780f92ad-5049-4fb0-ce69-4392efba5b1e"
      },
      "source": [
        "print(\"add:\" + str(mimi1 + mimi2) ) \n",
        "print(\"sot:\" + str(mimi1 - mimi2) )\n",
        "print(\"div:\" + str(mimi1 / mimi2) )\n",
        "print(\"mol:\" + str(mimi1 * mimi2) )"
      ],
      "execution_count": 4,
      "outputs": [
        {
          "output_type": "stream",
          "name": "stdout",
          "text": [
            "add:4\n",
            "sot:-2\n",
            "div:0.3333333333333333\n",
            "mol:3\n"
          ]
        }
      ]
    },
    {
      "cell_type": "markdown",
      "metadata": {
        "id": "_0G6bqyJiCxL"
      },
      "source": [
        "b. effettuare le 4 operazioni aritmetiche tra i due numeri"
      ]
    },
    {
      "cell_type": "code",
      "metadata": {
        "colab": {
          "base_uri": "https://localhost:8080/"
        },
        "id": "4l1qeR9BZ_-F",
        "outputId": "e5f5da0b-6be6-4f24-f66d-a76b41e1edd5"
      },
      "source": [
        "print(pow(mimi1,mimi2))"
      ],
      "execution_count": 5,
      "outputs": [
        {
          "output_type": "stream",
          "name": "stdout",
          "text": [
            "1\n"
          ]
        }
      ]
    },
    {
      "cell_type": "markdown",
      "metadata": {
        "id": "DP-ZJ18eaAkB"
      },
      "source": [
        "c. effettuare l'elevamento a potenza del primo numero per il secondo\n",
        "\n"
      ]
    },
    {
      "cell_type": "code",
      "metadata": {
        "colab": {
          "base_uri": "https://localhost:8080/"
        },
        "id": "4Ked55xeaKW-",
        "outputId": "ee530e3d-9504-46ed-dd4e-23452e7b6609"
      },
      "source": [
        "print(str (mimi1 % mimi2))"
      ],
      "execution_count": 116,
      "outputs": [
        {
          "output_type": "stream",
          "name": "stdout",
          "text": [
            "5\n"
          ]
        }
      ]
    },
    {
      "cell_type": "markdown",
      "metadata": {
        "id": "2v0jYwghaKyL"
      },
      "source": [
        "f. effettuare la divisione intera tra il primo e il secondo numero\n",
        "\n"
      ]
    },
    {
      "cell_type": "code",
      "metadata": {
        "colab": {
          "base_uri": "https://localhost:8080/"
        },
        "id": "QrA-enKqaS_N",
        "outputId": "781b9a77-cafa-4718-9e8b-c845d9023349"
      },
      "source": [
        "mimi1 += 1\n",
        "mimi2 += 1\n",
        "print(mimi1)\n",
        "print(mimi2)"
      ],
      "execution_count": 10,
      "outputs": [
        {
          "output_type": "stream",
          "name": "stdout",
          "text": [
            "5\n",
            "7\n"
          ]
        }
      ]
    },
    {
      "cell_type": "markdown",
      "metadata": {
        "id": "cI1NNwv5aT1Z"
      },
      "source": [
        "g. incrementare di una unità entrambi i numeri"
      ]
    },
    {
      "cell_type": "code",
      "metadata": {
        "colab": {
          "base_uri": "https://localhost:8080/"
        },
        "id": "m_xPEs8maa2g",
        "outputId": "4807d2d9-460f-4a71-bae7-a35fa1183130"
      },
      "source": [
        "altezza = float(input(\"inserisci la tua altezza(m): \"))\n",
        "peso= float(input(\"inserisci il tuo peso(kg): \"))\n",
        "\n",
        "\n",
        "print(peso/(altezza*2))\n"
      ],
      "execution_count": 29,
      "outputs": [
        {
          "output_type": "stream",
          "name": "stdout",
          "text": [
            "inserisci la tua altezza(m): 1.87\n",
            "inserisci il tuo peso(kg): 69\n",
            "18.449197860962567\n"
          ]
        }
      ]
    },
    {
      "cell_type": "markdown",
      "metadata": {
        "id": "wYJkCGc9acDn"
      },
      "source": [
        "h. far inserie all'utente due valori: il primo rappresenta la sua altezza (in metri) e il secondo rappresenta il suo peso (in kg). Visualizzare poi l'IMC (google it...)\n",
        "\n"
      ]
    },
    {
      "cell_type": "code",
      "metadata": {
        "colab": {
          "base_uri": "https://localhost:8080/"
        },
        "id": "ic0L5d_fagtw",
        "outputId": "d96aec57-803e-4ef1-de20-3e2d2cb9915a"
      },
      "source": [
        "print(int (peso//(altezza*2)))"
      ],
      "execution_count": 31,
      "outputs": [
        {
          "output_type": "stream",
          "name": "stdout",
          "text": [
            "18\n"
          ]
        }
      ]
    },
    {
      "cell_type": "markdown",
      "metadata": {
        "id": "SO4wSRLXe0CM"
      },
      "source": [
        "i. arrotondare l'IMC precedente"
      ]
    },
    {
      "cell_type": "code",
      "metadata": {
        "colab": {
          "base_uri": "https://localhost:8080/"
        },
        "id": "vHDAJAoAe7Sq",
        "outputId": "563b874c-dc36-44c5-8e5e-1c477ce880bc"
      },
      "source": [
        "info = [\"Enki -\",\"Papes -\",\"16/3/2005 -\",\"Milano\"]\n",
        "print(*info)"
      ],
      "execution_count": 61,
      "outputs": [
        {
          "output_type": "stream",
          "name": "stdout",
          "text": [
            "Enki - Papes - 16/3/2005 - Milano\n"
          ]
        }
      ]
    },
    {
      "cell_type": "markdown",
      "metadata": {
        "id": "auUaFbO1e8mv"
      },
      "source": [
        "j. visualizzare il proprio nome, cognome, data di nascita e città di nascita separando le informazioni con un trattino.\n"
      ]
    },
    {
      "cell_type": "code",
      "metadata": {
        "colab": {
          "base_uri": "https://localhost:8080/"
        },
        "id": "MAgeKXGkjW0z",
        "outputId": "cf89c002-b9b1-48cc-87ae-c413a70cbf24"
      },
      "source": [
        "info = [('Enki - Papes - 16/3/2005 - Milano \\n')*10]\n",
        "print(*info)"
      ],
      "execution_count": 72,
      "outputs": [
        {
          "output_type": "stream",
          "name": "stdout",
          "text": [
            "Enki - Papes - 16/3/2005 - Milano \n",
            "Enki - Papes - 16/3/2005 - Milano \n",
            "Enki - Papes - 16/3/2005 - Milano \n",
            "Enki - Papes - 16/3/2005 - Milano \n",
            "Enki - Papes - 16/3/2005 - Milano \n",
            "Enki - Papes - 16/3/2005 - Milano \n",
            "Enki - Papes - 16/3/2005 - Milano \n",
            "Enki - Papes - 16/3/2005 - Milano \n",
            "Enki - Papes - 16/3/2005 - Milano \n",
            "Enki - Papes - 16/3/2005 - Milano \n",
            "\n"
          ]
        }
      ]
    },
    {
      "cell_type": "markdown",
      "metadata": {
        "id": "gxaN9TzhjXnM"
      },
      "source": [
        "k. visualizzare le stesse informazioni per 10 volte di seguito\n"
      ]
    },
    {
      "cell_type": "code",
      "metadata": {
        "colab": {
          "base_uri": "https://localhost:8080/"
        },
        "id": "L4wdaqiaocin",
        "outputId": "58031535-e024-47ec-f4c9-5b52cc6c9198"
      },
      "source": [
        "NomCo = \"enki papes\"\n",
        "print('%s' %NomCo.upper())"
      ],
      "execution_count": 115,
      "outputs": [
        {
          "output_type": "stream",
          "name": "stdout",
          "text": [
            "ENKI PAPES\n"
          ]
        }
      ]
    },
    {
      "cell_type": "markdown",
      "metadata": {
        "id": "0uBJpVdDopEP"
      },
      "source": [
        "l. assegnare il proprio nome e cognome ad una stringa e visualizzarla con tutte le lettere maiuscole\n"
      ]
    },
    {
      "cell_type": "code",
      "metadata": {
        "colab": {
          "base_uri": "https://localhost:8080/"
        },
        "id": "gz8roFcg5QZm",
        "outputId": "f2802874-74b0-47ba-b5c8-3931c95b9e43"
      },
      "source": [
        "NomCo1 = \"enki papes\"\n",
        "print(NomCo1.title ())"
      ],
      "execution_count": 88,
      "outputs": [
        {
          "output_type": "stream",
          "name": "stdout",
          "text": [
            "Enki Papes\n"
          ]
        }
      ]
    },
    {
      "cell_type": "markdown",
      "metadata": {
        "id": "NhE1s0Tr5TjL"
      },
      "source": [
        "m. assegnare il proprio nome e cognome ad una stringa e visualizzarla con le prime lettere maiuscole\n"
      ]
    },
    {
      "cell_type": "code",
      "metadata": {
        "colab": {
          "base_uri": "https://localhost:8080/"
        },
        "id": "PTA3YbJY7GSF",
        "outputId": "6f79f008-00b5-439d-f3dc-d8e47034fcea"
      },
      "source": [
        "NomCo2 = \"enki papes\"\n",
        "print(len(NomCo2))"
      ],
      "execution_count": 125,
      "outputs": [
        {
          "output_type": "stream",
          "name": "stdout",
          "text": [
            "10\n"
          ]
        }
      ]
    },
    {
      "cell_type": "markdown",
      "metadata": {
        "id": "ZbGPWWXm7Flz"
      },
      "source": [
        "n. assegnare il proprio nome e cognome ad una stringa e visualizzarne la lunghezza\n"
      ]
    },
    {
      "cell_type": "code",
      "metadata": {
        "id": "WaVRXiuX_Sb5"
      },
      "source": [
        ""
      ],
      "execution_count": null,
      "outputs": []
    },
    {
      "cell_type": "markdown",
      "metadata": {
        "id": "ZYqO7I4y_TBR"
      },
      "source": [
        "o. assegnare il proprio nome e cognome ad una stringa e contate quante vocali contiene\n"
      ]
    },
    {
      "cell_type": "code",
      "metadata": {
        "colab": {
          "base_uri": "https://localhost:8080/"
        },
        "id": "QcGLH985B0_a",
        "outputId": "cdf76949-7324-4b29-8429-899510922689"
      },
      "source": [
        "NomCo3 = \"EnkiPapes\"\n",
        "print('Primo carattere di' , NomCo3 , 'is:' , NomCo3 [0:5]) "
      ],
      "execution_count": 143,
      "outputs": [
        {
          "output_type": "stream",
          "name": "stdout",
          "text": [
            "Primo carattere di EnkiPapes is: Enki\n"
          ]
        }
      ]
    },
    {
      "cell_type": "markdown",
      "metadata": {
        "id": "2xwmNLC0B1sD"
      },
      "source": [
        "p. assegnare il proprio nome e cognome ad una stringa e visualizzare i primi 5 caratteri\n"
      ]
    },
    {
      "cell_type": "code",
      "metadata": {
        "colab": {
          "base_uri": "https://localhost:8080/"
        },
        "id": "m3cKxg3LGWtj",
        "outputId": "086067b8-63ff-485b-9272-a2efef0d2f84"
      },
      "source": [
        "NomCo4 = \"EnkiPapes\"\n",
        "print('Primo carattere di' , NomCo4 , 'is:' , NomCo4 [-5:]) "
      ],
      "execution_count": 145,
      "outputs": [
        {
          "output_type": "stream",
          "name": "stdout",
          "text": [
            "Primo carattere di EnkiPapes is: Papes\n"
          ]
        }
      ]
    },
    {
      "cell_type": "markdown",
      "metadata": {
        "id": "gzLilUutGXIJ"
      },
      "source": [
        "q. assegnare il proprio nome e cognome ad una stringa e visualizzare gli ultimi 5 caratteri\n"
      ]
    },
    {
      "cell_type": "code",
      "metadata": {
        "colab": {
          "base_uri": "https://localhost:8080/"
        },
        "id": "HlqN1HPVGvql",
        "outputId": "ea15d2fc-1398-4de3-9898-a1e1357e4c10"
      },
      "source": [
        "NomCo4 = \"EnkiPapes\"\n",
        "print('Primo carattere di' , NomCo4 , 'is:' , NomCo4 [1:8]) "
      ],
      "execution_count": 147,
      "outputs": [
        {
          "output_type": "stream",
          "name": "stdout",
          "text": [
            "Primo carattere di EnkiPapes is: nkiPape\n"
          ]
        }
      ]
    },
    {
      "cell_type": "markdown",
      "metadata": {
        "id": "c8NY_8N-Gy2i"
      },
      "source": [
        "r.. assegnare il proprio nome e cognome ad una stringa e visualizzare i 5 caratteri centrali\n"
      ]
    },
    {
      "cell_type": "code",
      "metadata": {
        "colab": {
          "base_uri": "https://localhost:8080/"
        },
        "id": "-2ImF7GkHTX2",
        "outputId": "1735c16b-4923-4833-f7f6-702ac210e3c1"
      },
      "source": [
        "NomCo4 = \"EnkiPapes\"\n",
        "NomCog = NomCo4[0:8] +'X'\n",
        "\n",
        "print(\"creating new string\",NomCog,\"OK\")"
      ],
      "execution_count": 163,
      "outputs": [
        {
          "output_type": "stream",
          "name": "stdout",
          "text": [
            "creating new string EX OK\n"
          ]
        }
      ]
    },
    {
      "cell_type": "markdown",
      "metadata": {
        "id": "OPwqecJQHTzZ"
      },
      "source": [
        "s. assegnare il proprio nome e cognome ad una stringa e sostituire le vocali con una X\n"
      ]
    }
  ]
}