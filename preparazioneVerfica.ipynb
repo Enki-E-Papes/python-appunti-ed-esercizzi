{
  "nbformat": 4,
  "nbformat_minor": 0,
  "metadata": {
    "colab": {
      "name": "preparazioneVerfica.ipynb",
      "provenance": [],
      "authorship_tag": "ABX9TyOdr8MR2vazBhfYIxwrS99h",
      "include_colab_link": true
    },
    "kernelspec": {
      "name": "python3",
      "display_name": "Python 3"
    },
    "language_info": {
      "name": "python"
    }
  },
  "cells": [
    {
      "cell_type": "markdown",
      "metadata": {
        "id": "view-in-github",
        "colab_type": "text"
      },
      "source": [
        "<a href=\"https://colab.research.google.com/github/Lich-senpai13/python-appunti-ed-esercizzi/blob/main/preparazioneVerfica.ipynb\" target=\"_parent\"><img src=\"https://colab.research.google.com/assets/colab-badge.svg\" alt=\"Open In Colab\"/></a>"
      ]
    },
    {
      "cell_type": "markdown",
      "metadata": {
        "id": "9f4vteEzCD4j"
      },
      "source": [
        "1. scrivere un programma che permetta all'utente di inserire tre valori e visualizzi quello intermedio."
      ]
    },
    {
      "cell_type": "code",
      "metadata": {
        "colab": {
          "base_uri": "https://localhost:8080/"
        },
        "id": "yYzkOgRh-x-p",
        "outputId": "788014d7-0492-4291-97b6-2280ed70b193"
      },
      "source": [
        "val1=int(input(\"inserrire valore\"))\n",
        "val2=int(input(\"inserrire valore\"))\n",
        "val3=int(input(\"inserrire valore\"))\n",
        "\n",
        "if val1 < val2 < val3:\n",
        "  print(val2) \n",
        "elif val2 < valo1 < val3: \n",
        "  print(val1)\n",
        "else:\n",
        "    print(val3)"
      ],
      "execution_count": null,
      "outputs": [
        {
          "output_type": "stream",
          "name": "stdout",
          "text": [
            "inserrire valore2\n",
            "inserrire valore3\n",
            "inserrire valore6\n",
            "3\n"
          ]
        }
      ]
    },
    {
      "cell_type": "markdown",
      "metadata": {
        "id": "35BfYK0lCHtS"
      },
      "source": [
        "2. scrivere un programma che permetta all'utente di caricare una lista di numeri interi ed un valore e carichi in un'altra lista tutti gli elementi della prima lista che sono multipli del valore inserito. Al termnine visualizzare entrambe le liste."
      ]
    },
    {
      "cell_type": "code",
      "metadata": {
        "colab": {
          "base_uri": "https://localhost:8080/"
        },
        "id": "KVsEnDWRA-YT",
        "outputId": "f4412810-bd33-47bc-a8a9-45b542eebc9c"
      },
      "source": [
        "listanum=[int(ele)for ele in input(\"inhserisci numero: \").split()]\n",
        "valo= int (input(\"inseriscivalore\"))\n",
        "listEnd=[]\n",
        "\n",
        "for N in listanum:\n",
        "  if N%valo == 0 :\n",
        "    listEnd.append(N)\n",
        "print(listanum)\n",
        "print(listEnd)"
      ],
      "execution_count": null,
      "outputs": [
        {
          "output_type": "stream",
          "name": "stdout",
          "text": [
            "inhserisci numero: 12 3 45 45 \n",
            "inseriscivalore5\n",
            "[12, 3, 45, 45]\n",
            "[45, 45]\n"
          ]
        }
      ]
    },
    {
      "cell_type": "code",
      "metadata": {
        "colab": {
          "base_uri": "https://localhost:8080/"
        },
        "id": "ryd1Cm9pCOOy",
        "outputId": "3eb73270-5626-4ca1-f845-0cb72cb77feb"
      },
      "source": [
        "#alternativo\n",
        "\n",
        "listanum=[int(ele)for ele in input(\"inhserisci numero: \").split()]\n",
        "valo= int (input(\"inseriscivalore: \"))\n",
        "listEnd = [i for i in listanum if i%valo == 0]\n",
        "print(listEnd)"
      ],
      "execution_count": null,
      "outputs": [
        {
          "output_type": "stream",
          "name": "stdout",
          "text": [
            "inhserisci numero: 45\n",
            "inseriscivalore: 5\n",
            "[45]\n"
          ]
        }
      ]
    },
    {
      "cell_type": "markdown",
      "metadata": {
        "id": "ptfiiyNqDR1a"
      },
      "source": [
        "3. scrivere un programma che permetta all'utente di memorizzare in un dizionario i numeri di telefono dei propri amici. L'utente deve poter inserire i nomi e i numeri."
      ]
    },
    {
      "cell_type": "code",
      "metadata": {
        "colab": {
          "base_uri": "https://localhost:8080/"
        },
        "id": "6aIlGePLDUyB",
        "outputId": "9d811d84-8cae-49b5-aaf0-55a1b0db641b"
      },
      "source": [
        "nome = [s for s in input().split()]\n",
        "numero = [s for s in input().split()]\n",
        "rubrica = dict ((nome,numero)for nome,numero in zip(nome,numero))\n",
        "print(rubrica)"
      ],
      "execution_count": 13,
      "outputs": [
        {
          "output_type": "stream",
          "name": "stdout",
          "text": [
            "a b c\n",
            "1223 345 4653\n",
            "{'a': '1223', 'b': '345', 'c': '4653'}\n"
          ]
        }
      ]
    },
    {
      "cell_type": "markdown",
      "metadata": {
        "id": "7ATq-oUwEdwD"
      },
      "source": [
        "4. scrivere un programma che dato il dizionario dell'esercizio precedente, permetta all'utente di inserire un nome e avere il numero di telefono corrispondente"
      ]
    },
    {
      "cell_type": "code",
      "metadata": {
        "id": "n1j5xdG_EecL",
        "colab": {
          "base_uri": "https://localhost:8080/"
        },
        "outputId": "95eebc02-bd2d-4ec2-a98a-85de4d3fdcbe"
      },
      "source": [
        "nome = input()\n",
        "print(rubrica[nome])"
      ],
      "execution_count": 14,
      "outputs": [
        {
          "output_type": "stream",
          "name": "stdout",
          "text": [
            "a\n",
            "1223\n"
          ]
        }
      ]
    },
    {
      "cell_type": "markdown",
      "metadata": {
        "id": "zB_M4A10GNr6"
      },
      "source": [
        "5. scrivere una funzione che dato il raggio calcoli la superficie del cerchio avente quel raggio. Chiamare al funzione superficie,. Il valore di ritorno deve avere tre cifre decimali.\n"
      ]
    },
    {
      "cell_type": "code",
      "metadata": {
        "colab": {
          "base_uri": "https://localhost:8080/"
        },
        "id": "8QPKzCofFVHk",
        "outputId": "ed2e29aa-4c68-44ae-d3ad-ed889d25cfce"
      },
      "source": [
        "import math\n",
        "def superfice(r):\n",
        "  return r**2*math.pi\n",
        "superfice(int (input()))"
      ],
      "execution_count": null,
      "outputs": [
        {
          "name": "stdout",
          "output_type": "stream",
          "text": [
            "5\n"
          ]
        },
        {
          "output_type": "execute_result",
          "data": {
            "text/plain": [
              "78.53981633974483"
            ]
          },
          "metadata": {},
          "execution_count": 29
        }
      ]
    },
    {
      "cell_type": "markdown",
      "metadata": {
        "id": "oPM4yJlbGPPp"
      },
      "source": [
        "6. scrivere una funzione che, utilizzando la funzione superficie dell'esercizio precedente, permetta di calcolare il volume di un cilindro dato il raggio e l'altezza. Chiamare la funzione volume. "
      ]
    },
    {
      "cell_type": "code",
      "metadata": {
        "colab": {
          "base_uri": "https://localhost:8080/"
        },
        "id": "XJOjyt4sGR0K",
        "outputId": "15ccd8c7-d5b3-4170-e177-9cf338ad3eeb"
      },
      "source": [
        "def volume (r,h):\n",
        "  return superfice(r)*h\n",
        "print(volume(5,10))"
      ],
      "execution_count": null,
      "outputs": [
        {
          "output_type": "stream",
          "name": "stdout",
          "text": [
            "785.3981633974483\n"
          ]
        }
      ]
    },
    {
      "cell_type": "markdown",
      "metadata": {
        "id": "zFVp-I5MHB2s"
      },
      "source": [
        "7. scrivere un programma che permetta di decrementare tutti gli elementi di una lista utilizzando una lambda function e la funzione map(). Far inserire all'utente gli elementi della lista."
      ]
    },
    {
      "cell_type": "code",
      "metadata": {
        "colab": {
          "base_uri": "https://localhost:8080/"
        },
        "id": "8zRCBvMYHCaa",
        "outputId": "5520dd4e-3618-40b7-f27e-95eaf79d573b"
      },
      "source": [
        "numeri = [int (s)for s in input(\"inserisci numeri\").split()]\n",
        "Decremento = list (map(lambda x:x -1,numeri))\n",
        "print(numeri,Decremento)"
      ],
      "execution_count": null,
      "outputs": [
        {
          "output_type": "stream",
          "name": "stdout",
          "text": [
            "inserisci numeri23 34 6 7 8 9 1\n",
            "[23, 34, 6, 7, 8, 9, 1] [22, 33, 5, 6, 7, 8, 0]\n"
          ]
        }
      ]
    },
    {
      "cell_type": "markdown",
      "metadata": {
        "id": "fPFadmO5IV47"
      },
      "source": [
        "8. scrivere un programma che permetta di estrarre da una lista tutti i valori pari utilizzando una lambda function e la funzione filter(). Far inserire all'utente gli elementi della lista."
      ]
    },
    {
      "cell_type": "code",
      "metadata": {
        "colab": {
          "base_uri": "https://localhost:8080/"
        },
        "id": "JzGnOnLoIWhi",
        "outputId": "fe50d065-828a-477e-d282-3c1f10d0d35e"
      },
      "source": [
        "numeri = [int (s) for s in input(\"inserisci valore: \").split()]\n",
        "numeriPari = list (filter(lambda x:x%2 == 0, numeri))\n",
        "print(numeri)\n",
        "print(numeriPari) "
      ],
      "execution_count": 5,
      "outputs": [
        {
          "output_type": "stream",
          "name": "stdout",
          "text": [
            "inserisci valore: 23 34 45\n",
            "[23, 34, 45]\n",
            "[34]\n"
          ]
        }
      ]
    },
    {
      "cell_type": "markdown",
      "metadata": {
        "id": "vcdxfZJYI98S"
      },
      "source": [
        "9. scrivere una funzione ricorsiva per calcolare l'elevamento a potenza di un numero intero. La funzione ha due paramentri: numero ed esponente"
      ]
    },
    {
      "cell_type": "code",
      "metadata": {
        "id": "OYTufHOgI_P6"
      },
      "source": [
        "def potenza (base,esponente):\n",
        "  if esponente == 0 :\n",
        "    return 1\n",
        "  else :\n",
        "    return base*potenza(base,esponente-1)\n",
        "  print(potenza(5,4))"
      ],
      "execution_count": 2,
      "outputs": []
    }
  ]
}