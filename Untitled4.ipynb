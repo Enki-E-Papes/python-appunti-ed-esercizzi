{
  "nbformat": 4,
  "nbformat_minor": 0,
  "metadata": {
    "colab": {
      "name": "Untitled4.ipynb",
      "provenance": [],
      "collapsed_sections": [],
      "authorship_tag": "ABX9TyNAX31FQTBhkKWWf4DvWqGI",
      "include_colab_link": true
    },
    "kernelspec": {
      "name": "python3",
      "display_name": "Python 3"
    },
    "language_info": {
      "name": "python"
    }
  },
  "cells": [
    {
      "cell_type": "markdown",
      "metadata": {
        "id": "view-in-github",
        "colab_type": "text"
      },
      "source": [
        "<a href=\"https://colab.research.google.com/github/Lich-senpai13/python-appunti-ed-esercizzi/blob/main/Untitled4.ipynb\" target=\"_parent\"><img src=\"https://colab.research.google.com/assets/colab-badge.svg\" alt=\"Open In Colab\"/></a>"
      ]
    },
    {
      "cell_type": "markdown",
      "metadata": {
        "id": "QJyVJN-Aj-VN"
      },
      "source": [
        "1. Scrivere un programma che crei un dizionario contenente i nomi delle regioni e i nomi dei loro\n",
        "capoluoghi. Il nome della regione deve essere il campo chiave. Chiamare il dizionario\n",
        "capoluoghiRegione"
      ]
    },
    {
      "cell_type": "code",
      "metadata": {
        "colab": {
          "base_uri": "https://localhost:8080/",
          "height": 35
        },
        "id": "8oG-VsbKj9K9",
        "outputId": "ba796101-f102-45f6-f9c0-f653544564d6"
      },
      "source": [
        "capoluoghiRegione = {'Emilia-Romagna': 'Bologna','Friuli-Venezia Giulia': 'Trieste','Abruzzo': 'Aquila','Basilicata': 'Potenza','Calabria': 'Catanzaro','Campania': 'Napoli','Lazio': 'Roma','Liguria': 'Genova','Lombardia': 'Milano','Marche': 'Ancona','Molise': 'Campobasso','Piemonte': 'Torino','Puglia': 'Bari','Sardegna': 'Cagliari','Sicilia': 'Palermo','Toscana': 'Firenze','Trentino-Alto Adige': 'Trento','Umbria': 'Perugia','Valle dAosta': 'Aosta','Veneto': 'Venezia'}\n",
        "capoluoghiRegione['Abruzzo']\n"
      ],
      "execution_count": null,
      "outputs": [
        {
          "output_type": "execute_result",
          "data": {
            "application/vnd.google.colaboratory.intrinsic+json": {
              "type": "string"
            },
            "text/plain": [
              "'Aquila'"
            ]
          },
          "metadata": {},
          "execution_count": 34
        }
      ]
    },
    {
      "cell_type": "markdown",
      "metadata": {
        "id": "-XknClxJkuJo"
      },
      "source": [
        "2. Scrivere un programma che visualizzi tutti i nomi delle regioni presenti in capoluoghiRegione"
      ]
    },
    {
      "cell_type": "code",
      "metadata": {
        "colab": {
          "base_uri": "https://localhost:8080/"
        },
        "id": "CpX17aY8lfgw",
        "outputId": "4dd024cf-abba-41f4-c135-643e50bcba15"
      },
      "source": [
        "print( {keys for keys in capoluoghiRegione.keys()})"
      ],
      "execution_count": null,
      "outputs": [
        {
          "output_type": "stream",
          "name": "stdout",
          "text": [
            "{'Trentino-Alto Adige', 'Veneto', 'Molise', 'Basilicata', 'Liguria', 'Lazio', 'Toscana', 'Friuli-Venezia Giulia', 'Lombardia', 'Emilia-Romagna', 'Puglia', 'Calabria', 'Campania', 'Sardegna', 'Abruzzo', 'Valle dAosta', 'Piemonte', 'Marche', 'Sicilia', 'Umbria'}\n"
          ]
        }
      ]
    },
    {
      "cell_type": "markdown",
      "metadata": {
        "id": "MhBu6sjGk0gm"
      },
      "source": [
        "3. Scrivere un programma che visualizzi tutti i nomi dei capoluoghi di regione presenti in\n",
        "capoluoghiRegione\n"
      ]
    },
    {
      "cell_type": "code",
      "metadata": {
        "colab": {
          "base_uri": "https://localhost:8080/"
        },
        "id": "qTl7d4HOlf_1",
        "outputId": "2c1914d8-c54c-40cd-ac10-6a0ab0ed2012"
      },
      "source": [
        "print( {value for value in capoluoghiRegione.values()})"
      ],
      "execution_count": null,
      "outputs": [
        {
          "output_type": "stream",
          "name": "stdout",
          "text": [
            "{'Aosta', 'Venezia', 'Milano', 'Genova', 'Firenze', 'Napoli', 'Bologna', 'Aquila', 'Palermo', 'Potenza', 'Cagliari', 'Catanzaro', 'Roma', 'Campobasso', 'Ancona', 'Perugia', 'Trento', 'Trieste', 'Bari', 'Torino'}\n"
          ]
        }
      ]
    },
    {
      "cell_type": "markdown",
      "metadata": {
        "id": "1n9rizmsk81n"
      },
      "source": [
        "4. Scrivere un programma che acquisisca dall’utente il nome di una regione e fornisca il nome del suo\n",
        "capoluogo."
      ]
    },
    {
      "cell_type": "code",
      "metadata": {
        "colab": {
          "base_uri": "https://localhost:8080/"
        },
        "id": "lDHdcYRxlgyk",
        "outputId": "fa5a9815-4cf7-4d5a-a165-e4cc2ae0376b"
      },
      "source": [
        "inser = str(input(\"inserire una regione: \" ))\n",
        "print(capoluoghiRegione[inser])"
      ],
      "execution_count": null,
      "outputs": [
        {
          "output_type": "stream",
          "name": "stdout",
          "text": [
            "inserire una regione: Liguria\n",
            "Genova\n"
          ]
        }
      ]
    },
    {
      "cell_type": "markdown",
      "metadata": {
        "id": "GkiEqBgzlDqz"
      },
      "source": [
        "5. Scrivere un programma che acquisisca dall’utente il nome di un capoluogo e fornisca il nome della\n",
        "regione a cui appartiene."
      ]
    },
    {
      "cell_type": "code",
      "metadata": {
        "colab": {
          "base_uri": "https://localhost:8080/"
        },
        "id": "G1_INJoElhrD",
        "outputId": "fb0d8af0-7989-4fba-863b-a2336bf91721"
      },
      "source": [
        "keyList = list(capoluoghiRegione.keys())\n",
        "valList = list(capoluoghiRegione.values())\n",
        "\n",
        "for i in range(len(capoluoghiRegione)):\n",
        "        if input() in valList:\n",
        "            print(keyList)\n",
        "            break"
      ],
      "execution_count": null,
      "outputs": [
        {
          "output_type": "stream",
          "name": "stdout",
          "text": [
            "Milano\n",
            "['Emilia-Romagna', 'Friuli-Venezia Giulia', 'Abruzzo', 'Basilicata', 'Calabria', 'Campania', 'Lazio', 'Liguria', 'Lombardia', 'Marche', 'Molise', 'Piemonte', 'Puglia', 'Sardegna', 'Sicilia', 'Toscana', 'Trentino-Alto Adige', 'Umbria', 'Valle dAosta', 'Veneto']\n"
          ]
        }
      ]
    },
    {
      "cell_type": "markdown",
      "metadata": {
        "id": "FC0-lfOKlJkL"
      },
      "source": [
        "6. Scrivere un programma che visualizzi tutte le regioni con i rispettivi capoluoghi"
      ]
    },
    {
      "cell_type": "code",
      "metadata": {
        "colab": {
          "base_uri": "https://localhost:8080/"
        },
        "id": "gfev5ywHli6H",
        "outputId": "c5fdf101-fc22-446c-b8bd-4a5153d40729"
      },
      "source": [
        "for i in range(len(capoluoghiRegione)):\n",
        "  print(keyList[i], valList[i])"
      ],
      "execution_count": null,
      "outputs": [
        {
          "output_type": "stream",
          "name": "stdout",
          "text": [
            "Emilia-Romagna Bologna\n",
            "Friuli-Venezia Giulia Trieste\n",
            "Abruzzo Aquila\n",
            "Basilicata Potenza\n",
            "Calabria Catanzaro\n",
            "Campania Napoli\n",
            "Lazio Roma\n",
            "Liguria Genova\n",
            "Lombardia Milano\n",
            "Marche Ancona\n",
            "Molise Campobasso\n",
            "Piemonte Torino\n",
            "Puglia Bari\n",
            "Sardegna Cagliari\n",
            "Sicilia Palermo\n",
            "Toscana Firenze\n",
            "Trentino-Alto Adige Trento\n",
            "Umbria Perugia\n",
            "Valle dAosta Aosta\n",
            "Veneto Venezia\n"
          ]
        }
      ]
    },
    {
      "cell_type": "markdown",
      "metadata": {
        "id": "ikS7l3kVlQbO"
      },
      "source": [
        "7. Scrivere un programma che visualizzi tutte le regioni con i rispettivi capoluoghi. Ordinare i\n",
        "capoluoghi in ordine alfabetico\n"
      ]
    },
    {
      "cell_type": "code",
      "metadata": {
        "colab": {
          "base_uri": "https://localhost:8080/"
        },
        "id": "Yc-_Oqkpljkp",
        "outputId": "06e60333-6788-4cc6-fb02-a27e4267c4a2"
      },
      "source": [
        "stampa = sorted(keyList)\n",
        "\n",
        "for i in range(len(capoluoghiRegione)):\n",
        "  print(stampa[i], valList[i])"
      ],
      "execution_count": null,
      "outputs": [
        {
          "output_type": "stream",
          "name": "stdout",
          "text": [
            "Abruzzo Bologna\n",
            "Basilicata Trieste\n",
            "Calabria Aquila\n",
            "Campania Potenza\n",
            "Emilia-Romagna Catanzaro\n",
            "Friuli-Venezia Giulia Napoli\n",
            "Lazio Roma\n",
            "Liguria Genova\n",
            "Lombardia Milano\n",
            "Marche Ancona\n",
            "Molise Campobasso\n",
            "Piemonte Torino\n",
            "Puglia Bari\n",
            "Sardegna Cagliari\n",
            "Sicilia Palermo\n",
            "Toscana Firenze\n",
            "Trentino-Alto Adige Trento\n",
            "Umbria Perugia\n",
            "Valle dAosta Aosta\n",
            "Veneto Venezia\n"
          ]
        }
      ]
    },
    {
      "cell_type": "markdown",
      "metadata": {
        "id": "IyXBhTp6lV0v"
      },
      "source": [
        "8. Scrivere un programma che carichi in una lista i nomi delle regioni e in un’altra lista i nomi dei\n",
        "rispettivi capoluoghi. Scrivere poi l’istruzione che permette di costruire il dizionario a partire dalle\n",
        "due liste."
      ]
    },
    {
      "cell_type": "code",
      "metadata": {
        "colab": {
          "base_uri": "https://localhost:8080/"
        },
        "id": "TbEDBoe_lluM",
        "outputId": "1cdac248-c688-4947-8672-8e0ed3efd0f5"
      },
      "source": [
        "reg = ['Emilia-Romagna','Friuli-Venezia Giulia','Abruzzo','Basilicata','Calabria','Campania','Lazio','Liguria','Lombardia','Marche','Molise','Piemonte','Puglia','Sardegna','Sicilia','Toscana','Trentino-Alto Adige','Umbria','Valle dAosta','Veneto']\n",
        "cap = ['Bologna','Trieste','Aquila','Potenza','Catanzaro','Napoli','Roma','Genova','Milano','Ancona','Campobasso','Torino','Bari','Cagliari','Palermo','Firenze','Trento','Perugia','Aosta','Venezia']\n",
        "\n",
        "diz = {}\n",
        "\n",
        "for key in reg:\n",
        "    for value in cap:\n",
        "        diz[key] = value\n",
        "        cap.remove(value)\n",
        "        break\n",
        "print(str(diz))"
      ],
      "execution_count": null,
      "outputs": [
        {
          "output_type": "stream",
          "name": "stdout",
          "text": [
            "{'Emilia-Romagna': 'Bologna', 'Friuli-Venezia Giulia': 'Trieste', 'Abruzzo': 'Aquila', 'Basilicata': 'Potenza', 'Calabria': 'Catanzaro', 'Campania': 'Napoli', 'Lazio': 'Roma', 'Liguria': 'Genova', 'Lombardia': 'Milano', 'Marche': 'Ancona', 'Molise': 'Campobasso', 'Piemonte': 'Torino', 'Puglia': 'Bari', 'Sardegna': 'Cagliari', 'Sicilia': 'Palermo', 'Toscana': 'Firenze', 'Trentino-Alto Adige': 'Trento', 'Umbria': 'Perugia', 'Valle dAosta': 'Aosta', 'Veneto': 'Venezia'}\n"
          ]
        }
      ]
    }
  ]
}