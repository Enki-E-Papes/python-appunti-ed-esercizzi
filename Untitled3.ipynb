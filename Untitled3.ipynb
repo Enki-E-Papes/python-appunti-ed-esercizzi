{
  "nbformat": 4,
  "nbformat_minor": 0,
  "metadata": {
    "colab": {
      "name": "Untitled3.ipynb",
      "provenance": [],
      "collapsed_sections": [],
      "authorship_tag": "ABX9TyPWmJ+ULy8Y0NqONnvrt2NJ",
      "include_colab_link": true
    },
    "kernelspec": {
      "name": "python3",
      "display_name": "Python 3"
    },
    "language_info": {
      "name": "python"
    }
  },
  "cells": [
    {
      "cell_type": "markdown",
      "metadata": {
        "id": "view-in-github",
        "colab_type": "text"
      },
      "source": [
        "<a href=\"https://colab.research.google.com/github/Lich-senpai13/python-appunti-ed-esercizzi/blob/main/Untitled3.ipynb\" target=\"_parent\"><img src=\"https://colab.research.google.com/assets/colab-badge.svg\" alt=\"Open In Colab\"/></a>"
      ]
    },
    {
      "cell_type": "markdown",
      "metadata": {
        "id": "atPX2FVYCz2s"
      },
      "source": [
        "1. Scrivere un programma che crei una lista contenente i nomi dei capoluoghi delle regioni italiane e\n",
        "che visualizzi la lista. Chiamare la lista capoluoghiRegione"
      ]
    },
    {
      "cell_type": "code",
      "metadata": {
        "colab": {
          "base_uri": "https://localhost:8080/"
        },
        "id": "ejhCCrnW4TkQ",
        "outputId": "6061f274-bae6-46fb-94ff-1585849bd0e9"
      },
      "source": [
        "capoluoghiRegione = ['Bologna','Trieste','Roma','Genova','Torino','Milano','Ancona','Cagliari','Palermo','Catanzaro','Napoli','Venezia','Campobasso','Perugia','Potenza']\n",
        "print(capoluoghiRegione)"
      ],
      "execution_count": null,
      "outputs": [
        {
          "output_type": "stream",
          "name": "stdout",
          "text": [
            "['Bologna', 'Trieste', 'Roma', 'Genova', 'Torino', 'Milano', 'Ancona', 'Cagliari', 'Palermo', 'Catanzaro', 'Napoli', 'Venezia', 'Campobasso', 'Perugia', 'Potenza']\n"
          ]
        }
      ]
    },
    {
      "cell_type": "markdown",
      "metadata": {
        "id": "75_x02foC2_q"
      },
      "source": [
        "2. Scrivere un programma che visualizzi i primi 6 capoluoghi di regione presenti in\n",
        "capoluoghiRegione"
      ]
    },
    {
      "cell_type": "code",
      "metadata": {
        "colab": {
          "base_uri": "https://localhost:8080/"
        },
        "id": "qMxKwh6l_FzM",
        "outputId": "b16c7e03-2eff-4ee8-8a1c-5411aadded24"
      },
      "source": [
        "print(capoluoghiRegione[0:6])"
      ],
      "execution_count": null,
      "outputs": [
        {
          "output_type": "stream",
          "name": "stdout",
          "text": [
            "['Bologna', 'Trieste', 'Roma', 'Genova', 'Torino', 'Milano']\n"
          ]
        }
      ]
    },
    {
      "cell_type": "markdown",
      "metadata": {
        "id": "oHrxaschC7ZY"
      },
      "source": [
        "3. Scrivere un programma che visualizzi gli ultimi 6 capoluoghi di regione presenti in\n",
        "capoluoghiRegione"
      ]
    },
    {
      "cell_type": "code",
      "metadata": {
        "colab": {
          "base_uri": "https://localhost:8080/"
        },
        "id": "AiTZyirC_t9y",
        "outputId": "176a0126-dd70-4910-db4f-b7ce7cb66c92"
      },
      "source": [
        "print(capoluoghiRegione[-6:15])"
      ],
      "execution_count": null,
      "outputs": [
        {
          "output_type": "stream",
          "name": "stdout",
          "text": [
            "['Catanzaro', 'Napoli', 'Venezia', 'Campobasso', 'Perugia', 'Potenza']\n"
          ]
        }
      ]
    },
    {
      "cell_type": "markdown",
      "metadata": {
        "id": "MAvmTGRHDKPW"
      },
      "source": [
        "4. Scrivere un programma che visualizzi i 6 capoluoghi di regione presenti nella parte centrale di\n",
        "capoluoghiRegione"
      ]
    },
    {
      "cell_type": "code",
      "metadata": {
        "colab": {
          "base_uri": "https://localhost:8080/"
        },
        "id": "awFSiSm8__If",
        "outputId": "7b13ba74-c19c-42ef-d2af-d14bc586e26a"
      },
      "source": [
        "print(capoluoghiRegione[5:-5])"
      ],
      "execution_count": null,
      "outputs": [
        {
          "output_type": "stream",
          "name": "stdout",
          "text": [
            "['Milano', 'Ancona', 'Cagliari', 'Palermo', 'Catanzaro']\n"
          ]
        }
      ]
    },
    {
      "cell_type": "markdown",
      "metadata": {
        "id": "NC_sdYfODNvi"
      },
      "source": [
        "5. Scrivere un programma che visualizzi i capoluoghi di regione presenti in capoluoghiRegione\n",
        "nelle posizioni pari."
      ]
    },
    {
      "cell_type": "code",
      "metadata": {
        "colab": {
          "base_uri": "https://localhost:8080/"
        },
        "id": "ub73tYghCf_1",
        "outputId": "a2abd919-d760-4e19-a030-99417e448ed8"
      },
      "source": [
        "capoluoghipariindex = 0\n",
        "for capoluoghipari in capoluoghiRegione:\n",
        "  print(capoluoghiRegione[capoluoghipariindex])\n",
        "  capoluoghipariindex +=2\n",
        "  if capoluoghipariindex > 15:\n",
        "    break"
      ],
      "execution_count": null,
      "outputs": [
        {
          "output_type": "stream",
          "name": "stdout",
          "text": [
            "Bologna\n",
            "Roma\n",
            "Torino\n",
            "Ancona\n",
            "Palermo\n",
            "Napoli\n",
            "Campobasso\n",
            "Potenza\n"
          ]
        }
      ]
    },
    {
      "cell_type": "markdown",
      "metadata": {
        "id": "VWgrWmCaZJUx"
      },
      "source": [
        "6. Scrivere un programma che visualizzi i capoluoghi di regione presenti in capoluoghiRegione\n",
        "nelle posizioni dispari."
      ]
    },
    {
      "cell_type": "code",
      "metadata": {
        "colab": {
          "base_uri": "https://localhost:8080/"
        },
        "id": "Nx5HmtXwZRYQ",
        "outputId": "4f4235bf-3b90-42cf-b97a-8d9e1276c476"
      },
      "source": [
        "capoluoghipariindex = 1\n",
        "for capoluoghipari in capoluoghiRegione:\n",
        "  print(capoluoghiRegione[capoluoghipariindex])\n",
        "  capoluoghipariindex +=2\n",
        "  if capoluoghipariindex >= 15:\n",
        "    break"
      ],
      "execution_count": null,
      "outputs": [
        {
          "output_type": "stream",
          "name": "stdout",
          "text": [
            "Trieste\n",
            "Genova\n",
            "Milano\n",
            "Cagliari\n",
            "Catanzaro\n",
            "Venezia\n",
            "Perugia\n"
          ]
        }
      ]
    },
    {
      "cell_type": "markdown",
      "metadata": {
        "id": "PHZuHtRdZoFL"
      },
      "source": [
        "7. Scrivere un programma che visualizzi il primo capoluogo di regione in ordine alfabetico"
      ]
    },
    {
      "cell_type": "code",
      "metadata": {
        "colab": {
          "base_uri": "https://localhost:8080/"
        },
        "id": "wLV-D93tZngN",
        "outputId": "45946332-6c99-40fd-b2b7-f440db0271d0"
      },
      "source": [
        "capoluoghiRegione.sort()\n",
        "print(capoluoghiRegione)"
      ],
      "execution_count": null,
      "outputs": [
        {
          "output_type": "stream",
          "name": "stdout",
          "text": [
            "['Ancona', 'Bologna', 'Cagliari', 'Campobasso', 'Catanzaro', 'Genova', 'Milano', 'Napoli', 'Palermo', 'Perugia', 'Potenza', 'Roma', 'Torino', 'Trieste', 'Venezia']\n"
          ]
        }
      ]
    },
    {
      "cell_type": "markdown",
      "metadata": {
        "id": "uWqRhsD0aDF2"
      },
      "source": [
        "8. Scrivere un programma che permetta ad un utente di inserire il nome di una città è risponda True\n",
        "se quella città è un capoluogo di regione, False altrimenti."
      ]
    },
    {
      "cell_type": "code",
      "metadata": {
        "colab": {
          "base_uri": "https://localhost:8080/"
        },
        "id": "qA-8roYYaHHz",
        "outputId": "433abba0-6a4a-4fd6-ecc6-219aecaa33f9"
      },
      "source": [
        "CityName = str(input(\"inserire il nome di una citta: \" ))\n",
        "if CityName in capoluoghiRegione:\n",
        "  print(\"True\")\n",
        "else:\n",
        "  print(\"False\")"
      ],
      "execution_count": null,
      "outputs": [
        {
          "output_type": "stream",
          "name": "stdout",
          "text": [
            "inserire il nome di una citta: Bologna\n",
            "\tTrue\n"
          ]
        }
      ]
    },
    {
      "cell_type": "markdown",
      "metadata": {
        "id": "2VAwdcb4bJnJ"
      },
      "source": [
        "9. Scrivere un programma che visualizzi i capoluoghi in ordine alfabetico inverso (dalla Z alla A)"
      ]
    },
    {
      "cell_type": "code",
      "metadata": {
        "colab": {
          "base_uri": "https://localhost:8080/"
        },
        "id": "YS2GyR0sbWht",
        "outputId": "6b2a3761-43d2-4ff1-f49d-47ae2953e6dc"
      },
      "source": [
        "capoluoghiRegione.sort(reverse = True)\n",
        "print(capoluoghiRegione)"
      ],
      "execution_count": null,
      "outputs": [
        {
          "output_type": "stream",
          "name": "stdout",
          "text": [
            "['Venezia', 'Trieste', 'Torino', 'Roma', 'Potenza', 'Perugia', 'Palermo', 'Napoli', 'Milano', 'Genova', 'Catanzaro', 'Campobasso', 'Cagliari', 'Bologna', 'Ancona']\n"
          ]
        }
      ]
    },
    {
      "cell_type": "markdown",
      "metadata": {
        "id": "ZzInxmhlcp7R"
      },
      "source": [
        "10. Scrivere un programma che visualizzi i capoluoghi in ordine sulla base della lunghezza del nome (da\n",
        "quello più corto a quello più lungo)"
      ]
    },
    {
      "cell_type": "code",
      "metadata": {
        "colab": {
          "base_uri": "https://localhost:8080/"
        },
        "id": "djrFagB4ceye",
        "outputId": "befad150-e598-43b1-c0dd-3768b811f6e0"
      },
      "source": [
        "capoluoghiRegione.sort(key = len)\n",
        "print(capoluoghiRegione)"
      ],
      "execution_count": null,
      "outputs": [
        {
          "output_type": "stream",
          "name": "stdout",
          "text": [
            "['Roma', 'Torino', 'Napoli', 'Milano', 'Genova', 'Ancona', 'Venezia', 'Trieste', 'Potenza', 'Perugia', 'Palermo', 'Bologna', 'Cagliari', 'Catanzaro', 'Campobasso']\n"
          ]
        }
      ]
    },
    {
      "cell_type": "markdown",
      "metadata": {
        "id": "0pok3-3TdaRm"
      },
      "source": [
        "11. Scrivere un programma che copi la lista capoluoghiRegione nella lista\n",
        "capoluoghiRegione2 e che elimini dalla prima lista il primo e l’ultimo elemento. Al termine,\n",
        "visualizzare le due liste una sotto l’altra per verificare che effettivamente siano stati eliminati gli\n",
        "elementi della lista originale."
      ]
    },
    {
      "cell_type": "code",
      "metadata": {
        "id": "ft953T4FcrZ6"
      },
      "source": [
        "capoluoghiRegione2 = capoluoghiRegione\n",
        "print(capoluoghiRegione2)\n",
        "capoluoghiRegione.remove('Aquila')\n",
        "capoluoghiRegione.remove('Venezia')\n",
        "print(capoluoghiRegione)"
      ],
      "execution_count": null,
      "outputs": []
    },
    {
      "cell_type": "markdown",
      "metadata": {
        "id": "Hn6YH7isdeQI"
      },
      "source": [
        "12. Scrivere un programma che, con una sola istruzione, carichi una lista con i primi 100 numeri interi.\n",
        "Chiamare la lista numeriInteri. Al termine, visualizzare la lista."
      ]
    },
    {
      "cell_type": "code",
      "metadata": {
        "colab": {
          "base_uri": "https://localhost:8080/"
        },
        "id": "krAAAUVSdlik",
        "outputId": "fa2812a6-e13a-45f3-e97f-e128b8f938b1"
      },
      "source": [
        "Numerint=[]\n",
        "i = 0\n",
        "\n",
        "while i < 101:\n",
        "  Numerint.append(i)\n",
        "  i += 1\n",
        "\n",
        "print(Numerint)"
      ],
      "execution_count": null,
      "outputs": [
        {
          "output_type": "stream",
          "name": "stdout",
          "text": [
            "[0, 1, 2, 3, 4, 5, 6, 7, 8, 9, 10, 11, 12, 13, 14, 15, 16, 17, 18, 19, 20, 21, 22, 23, 24, 25, 26, 27, 28, 29, 30, 31, 32, 33, 34, 35, 36, 37, 38, 39, 40, 41, 42, 43, 44, 45, 46, 47, 48, 49, 50, 51, 52, 53, 54, 55, 56, 57, 58, 59, 60, 61, 62, 63, 64, 65, 66, 67, 68, 69, 70, 71, 72, 73, 74, 75, 76, 77, 78, 79, 80, 81, 82, 83, 84, 85, 86, 87, 88, 89, 90, 91, 92, 93, 94, 95, 96, 97, 98, 99, 100]\n"
          ]
        }
      ]
    },
    {
      "cell_type": "markdown",
      "metadata": {
        "id": "Hd5M8y5DeYDQ"
      },
      "source": [
        "13. Scrivere un programma che permetta all’utente di inserire in una lista 10 numeri interi, elimini i\n",
        "duplicati e visualizzi la lista senza duplicati. Chiamare la lista numeriInteri."
      ]
    },
    {
      "cell_type": "code",
      "metadata": {
        "colab": {
          "base_uri": "https://localhost:8080/"
        },
        "id": "U997y7G6ebl3",
        "outputId": "31ba1ea1-35b4-43e5-94b3-9f0a3a3506f2"
      },
      "source": [
        "numerint = []\n",
        "for i in range(11):\n",
        " numeroinserito = int(input(\"inserire il primo numero: \" ))\n",
        " numerint.append(numeroinserito)\n",
        "setnumerint = set(numerint)\n",
        "print(setnumerint)\n",
        "\n"
      ],
      "execution_count": 35,
      "outputs": [
        {
          "output_type": "stream",
          "name": "stdout",
          "text": [
            "inserire il primo numero: 3\n",
            "inserire il primo numero: 3\n",
            "inserire il primo numero: 4\n",
            "inserire il primo numero: 9\n",
            "inserire il primo numero: 7\n",
            "inserire il primo numero: 23\n",
            "inserire il primo numero: 41\n",
            "inserire il primo numero: 12\n",
            "inserire il primo numero: 2\n",
            "inserire il primo numero: 12\n",
            "inserire il primo numero: 3\n",
            "{2, 3, 4, 7, 9, 41, 12, 23}\n"
          ]
        }
      ]
    }
  ]
}